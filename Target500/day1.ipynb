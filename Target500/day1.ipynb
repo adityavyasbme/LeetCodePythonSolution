{
 "cells": [
  {
   "cell_type": "code",
   "execution_count": null,
   "metadata": {},
   "outputs": [],
   "source": [
    "# Two Sum \n",
    "\n",
    "# Beats 11% Brute Force\n",
    "class Solution:\n",
    "    def twoSum(self, nums: List[int], target: int) -> List[int]:\n",
    "        seen = {}\n",
    "        # Brute Force \n",
    "        for idx1, num1 in enumerate(nums):            \n",
    "            find_this = target - num1\n",
    "            for idx2,num2 in enumerate(nums):\n",
    "                if num2==find_this and idx1!=idx2:\n",
    "                    return [idx1,idx2]\n",
    "\n",
    "\n",
    "# Beats 35% Best Memory\n",
    "class Solution:\n",
    "    def twoSum(self, nums: List[int], target: int) -> List[int]:\n",
    "        # Brute Force \n",
    "        for idx1, num1 in enumerate(nums):            \n",
    "            find_this = target - num1\n",
    "            for idx2,num2 in enumerate(nums[idx1+1:]):\n",
    "                if num2==find_this:\n",
    "                    return [idx1,idx1+1+idx2]        \n",
    "\n",
    "# Beats 54% Best Time\n",
    "class Solution:\n",
    "    def twoSum(self, nums: List[int], target: int) -> List[int]:\n",
    "        seen = {}\n",
    "        # Brute Force \n",
    "        for idx1, num1 in enumerate(nums):            \n",
    "            find_this = target - num1\n",
    "            if find_this in seen:\n",
    "                return [idx1, seen[find_this]]\n",
    "            if num1 not in seen:\n",
    "                seen[num1] = idx1\n",
    "\n",
    "        "
   ]
  },
  {
   "cell_type": "code",
   "execution_count": null,
   "metadata": {},
   "outputs": [],
   "source": []
  }
 ],
 "metadata": {
  "language_info": {
   "name": "python"
  }
 },
 "nbformat": 4,
 "nbformat_minor": 2
}
